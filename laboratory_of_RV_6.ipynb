{
 "cells": [
  {
   "cell_type": "code",
   "execution_count": 1,
   "metadata": {},
   "outputs": [],
   "source": [
    "import pandas as pd\n",
    "from binance.client import Client\n",
    "import re\n",
    "import time\n",
    "import json\n",
    "from datetime import datetime\n",
    "import matplotlib.pyplot as plt"
   ]
  },
  {
   "cell_type": "code",
   "execution_count": 2,
   "metadata": {},
   "outputs": [],
   "source": [
    "api_key = 'z7Ltgm7gB1OBsvRiSPCuYOIq7CHMXEVT1ch4vnGuuxZ4I9kaKc7gwLbmd6n3HBJ2'\n",
    "api_secret = '3h3ylP3VtH6Rtvm83aoHrcI8erMjZfNeX6MAgRGnSHL1srkvu2WcJlUnH1fq59LX'\n",
    "\n",
    "client = Client(api_key, api_secret)\n",
    "\n",
    "tickers = client.get_all_tickers()\n",
    "tickers = pd.DataFrame(tickers)"
   ]
  },
  {
   "cell_type": "code",
   "execution_count": 3,
   "metadata": {},
   "outputs": [
    {
     "ename": "BinanceAPIException",
     "evalue": "APIError(code=-2015): Invalid API-key, IP, or permissions for action.",
     "output_type": "error",
     "traceback": [
      "\u001b[1;31m----------------------------------------------------------------------\u001b[0m",
      "\u001b[1;31mBinanceAPIException\u001b[0m                  Traceback (most recent call last)",
      "\u001b[1;32mc:\\Practice\\laboratory\\03\\Trader_RC\\laboratory_of_RV_6.ipynb Cell 3\u001b[0m line \u001b[0;36m3\n\u001b[0;32m      <a href='vscode-notebook-cell:/c%3A/Practice/laboratory/03/Trader_RC/laboratory_of_RV_6.ipynb#Y132sZmlsZQ%3D%3D?line=0'>1</a>\u001b[0m whitelist \u001b[39m=\u001b[39m [\u001b[39m'\u001b[39m\u001b[39mAMBUSDT\u001b[39m\u001b[39m'\u001b[39m, \u001b[39m'\u001b[39m\u001b[39mPNTUSDT\u001b[39m\u001b[39m'\u001b[39m, \u001b[39m'\u001b[39m\u001b[39mLSKUSDT\u001b[39m\u001b[39m'\u001b[39m, \u001b[39m'\u001b[39m\u001b[39mOMGUSDT\u001b[39m\u001b[39m'\u001b[39m, \u001b[39m'\u001b[39m\u001b[39mATAUSDT\u001b[39m\u001b[39m'\u001b[39m,\u001b[39m'\u001b[39m\u001b[39mOCTUSDT\u001b[39m\u001b[39m'\u001b[39m, \u001b[39m'\u001b[39m\u001b[39mICXUSDT\u001b[39m\u001b[39m'\u001b[39m, \u001b[39m'\u001b[39m\u001b[39mSTMXUSDT\u001b[39m\u001b[39m'\u001b[39m, \u001b[39m'\u001b[39m\u001b[39mARKUSDT\u001b[39m\u001b[39m'\u001b[39m, \u001b[39m'\u001b[39m\u001b[39mWLDUSDT\u001b[39m\u001b[39m'\u001b[39m, \u001b[39m'\u001b[39m\u001b[39mMBLUSDT\u001b[39m\u001b[39m'\u001b[39m, \u001b[39m'\u001b[39m\u001b[39mZILUSDT\u001b[39m\u001b[39m'\u001b[39m, \u001b[39m'\u001b[39m\u001b[39mHIGHUSDT\u001b[39m\u001b[39m'\u001b[39m, \u001b[39m'\u001b[39m\u001b[39mETCUSDT\u001b[39m\u001b[39m'\u001b[39m, \u001b[39m'\u001b[39m\u001b[39mETHUSDT\u001b[39m\u001b[39m'\u001b[39m, \u001b[39m'\u001b[39m\u001b[39mSOLUSDT\u001b[39m\u001b[39m'\u001b[39m, \u001b[39m'\u001b[39m\u001b[39mDOGEUSDT\u001b[39m\u001b[39m'\u001b[39m, \u001b[39m'\u001b[39m\u001b[39mLTCUSDT\u001b[39m\u001b[39m'\u001b[39m, \u001b[39m'\u001b[39m\u001b[39mSHIBUSDT\u001b[39m\u001b[39m'\u001b[39m, \u001b[39m'\u001b[39m\u001b[39mPLAUSDT\u001b[39m\u001b[39m'\u001b[39m, \u001b[39m'\u001b[39m\u001b[39mONTUSDT\u001b[39m\u001b[39m'\u001b[39m, \u001b[39m'\u001b[39m\u001b[39mFARMUSDT\u001b[39m\u001b[39m'\u001b[39m, \u001b[39m'\u001b[39m\u001b[39mHARDUSDT\u001b[39m\u001b[39m'\u001b[39m, \u001b[39m'\u001b[39m\u001b[39mCHESSUSDT\u001b[39m\u001b[39m'\u001b[39m]\n\u001b[0;32m      <a href='vscode-notebook-cell:/c%3A/Practice/laboratory/03/Trader_RC/laboratory_of_RV_6.ipynb#Y132sZmlsZQ%3D%3D?line=1'>2</a>\u001b[0m balances, tickets, info \u001b[39m=\u001b[39m [], [], []\n\u001b[1;32m----> <a href='vscode-notebook-cell:/c%3A/Practice/laboratory/03/Trader_RC/laboratory_of_RV_6.ipynb#Y132sZmlsZQ%3D%3D?line=2'>3</a>\u001b[0m balance \u001b[39m=\u001b[39m \u001b[39mfloat\u001b[39m(client\u001b[39m.\u001b[39;49mget_asset_balance(asset\u001b[39m=\u001b[39;49m\u001b[39m'\u001b[39;49m\u001b[39mUSDT\u001b[39;49m\u001b[39m'\u001b[39;49m)[\u001b[39m'\u001b[39m\u001b[39mfree\u001b[39m\u001b[39m'\u001b[39m])\n\u001b[0;32m      <a href='vscode-notebook-cell:/c%3A/Practice/laboratory/03/Trader_RC/laboratory_of_RV_6.ipynb#Y132sZmlsZQ%3D%3D?line=3'>4</a>\u001b[0m partOfBalance \u001b[39m=\u001b[39m \u001b[39m11\u001b[39m\n\u001b[0;32m      <a href='vscode-notebook-cell:/c%3A/Practice/laboratory/03/Trader_RC/laboratory_of_RV_6.ipynb#Y132sZmlsZQ%3D%3D?line=4'>5</a>\u001b[0m signalCounter \u001b[39m=\u001b[39m \u001b[39m0\u001b[39m\n",
      "File \u001b[1;32mc:\\Users\\user\\AppData\\Local\\Programs\\Python\\Python311\\Lib\\site-packages\\binance\\client.py:2076\u001b[0m, in \u001b[0;36mClient.get_asset_balance\u001b[1;34m(self, asset, **params)\u001b[0m\n\u001b[0;32m   2055\u001b[0m \u001b[39mdef\u001b[39;00m \u001b[39mget_asset_balance\u001b[39m(\u001b[39mself\u001b[39m, asset, \u001b[39m*\u001b[39m\u001b[39m*\u001b[39mparams):\n\u001b[0;32m   2056\u001b[0m \u001b[39m    \u001b[39m\u001b[39m\"\"\"Get current asset balance.\u001b[39;00m\n\u001b[0;32m   2057\u001b[0m \n\u001b[0;32m   2058\u001b[0m \u001b[39m    :param asset: required\u001b[39;00m\n\u001b[1;32m   (...)\u001b[0m\n\u001b[0;32m   2074\u001b[0m \n\u001b[0;32m   2075\u001b[0m \u001b[39m    \"\"\"\u001b[39;00m\n\u001b[1;32m-> 2076\u001b[0m     res \u001b[39m=\u001b[39m \u001b[39mself\u001b[39;49m\u001b[39m.\u001b[39;49mget_account(\u001b[39m*\u001b[39;49m\u001b[39m*\u001b[39;49mparams)\n\u001b[0;32m   2077\u001b[0m     \u001b[39m# find asset balance in list of balances\u001b[39;00m\n\u001b[0;32m   2078\u001b[0m     \u001b[39mif\u001b[39;00m \u001b[39m\"\u001b[39m\u001b[39mbalances\u001b[39m\u001b[39m\"\u001b[39m \u001b[39min\u001b[39;00m res:\n",
      "File \u001b[1;32mc:\\Users\\user\\AppData\\Local\\Programs\\Python\\Python311\\Lib\\site-packages\\binance\\client.py:2053\u001b[0m, in \u001b[0;36mClient.get_account\u001b[1;34m(self, **params)\u001b[0m\n\u001b[0;32m   2016\u001b[0m \u001b[39mdef\u001b[39;00m \u001b[39mget_account\u001b[39m(\u001b[39mself\u001b[39m, \u001b[39m*\u001b[39m\u001b[39m*\u001b[39mparams):\n\u001b[0;32m   2017\u001b[0m \u001b[39m    \u001b[39m\u001b[39m\"\"\"Get current account information.\u001b[39;00m\n\u001b[0;32m   2018\u001b[0m \n\u001b[0;32m   2019\u001b[0m \u001b[39m    https://binance-docs.github.io/apidocs/spot/en/#account-information-user_data\u001b[39;00m\n\u001b[1;32m   (...)\u001b[0m\n\u001b[0;32m   2051\u001b[0m \n\u001b[0;32m   2052\u001b[0m \u001b[39m    \"\"\"\u001b[39;00m\n\u001b[1;32m-> 2053\u001b[0m     \u001b[39mreturn\u001b[39;00m \u001b[39mself\u001b[39;49m\u001b[39m.\u001b[39;49m_get(\u001b[39m'\u001b[39;49m\u001b[39maccount\u001b[39;49m\u001b[39m'\u001b[39;49m, \u001b[39mTrue\u001b[39;49;00m, data\u001b[39m=\u001b[39;49mparams)\n",
      "File \u001b[1;32mc:\\Users\\user\\AppData\\Local\\Programs\\Python\\Python311\\Lib\\site-packages\\binance\\client.py:415\u001b[0m, in \u001b[0;36mClient._get\u001b[1;34m(self, path, signed, version, **kwargs)\u001b[0m\n\u001b[0;32m    414\u001b[0m \u001b[39mdef\u001b[39;00m \u001b[39m_get\u001b[39m(\u001b[39mself\u001b[39m, path, signed\u001b[39m=\u001b[39m\u001b[39mFalse\u001b[39;00m, version\u001b[39m=\u001b[39mBaseClient\u001b[39m.\u001b[39mPUBLIC_API_VERSION, \u001b[39m*\u001b[39m\u001b[39m*\u001b[39mkwargs):\n\u001b[1;32m--> 415\u001b[0m     \u001b[39mreturn\u001b[39;00m \u001b[39mself\u001b[39;49m\u001b[39m.\u001b[39;49m_request_api(\u001b[39m'\u001b[39;49m\u001b[39mget\u001b[39;49m\u001b[39m'\u001b[39;49m, path, signed, version, \u001b[39m*\u001b[39;49m\u001b[39m*\u001b[39;49mkwargs)\n",
      "File \u001b[1;32mc:\\Users\\user\\AppData\\Local\\Programs\\Python\\Python311\\Lib\\site-packages\\binance\\client.py:378\u001b[0m, in \u001b[0;36mClient._request_api\u001b[1;34m(self, method, path, signed, version, **kwargs)\u001b[0m\n\u001b[0;32m    374\u001b[0m \u001b[39mdef\u001b[39;00m \u001b[39m_request_api\u001b[39m(\n\u001b[0;32m    375\u001b[0m     \u001b[39mself\u001b[39m, method, path: \u001b[39mstr\u001b[39m, signed: \u001b[39mbool\u001b[39m \u001b[39m=\u001b[39m \u001b[39mFalse\u001b[39;00m, version\u001b[39m=\u001b[39mBaseClient\u001b[39m.\u001b[39mPUBLIC_API_VERSION, \u001b[39m*\u001b[39m\u001b[39m*\u001b[39mkwargs\n\u001b[0;32m    376\u001b[0m ):\n\u001b[0;32m    377\u001b[0m     uri \u001b[39m=\u001b[39m \u001b[39mself\u001b[39m\u001b[39m.\u001b[39m_create_api_uri(path, signed, version)\n\u001b[1;32m--> 378\u001b[0m     \u001b[39mreturn\u001b[39;00m \u001b[39mself\u001b[39;49m\u001b[39m.\u001b[39;49m_request(method, uri, signed, \u001b[39m*\u001b[39;49m\u001b[39m*\u001b[39;49mkwargs)\n",
      "File \u001b[1;32mc:\\Users\\user\\AppData\\Local\\Programs\\Python\\Python311\\Lib\\site-packages\\binance\\client.py:359\u001b[0m, in \u001b[0;36mClient._request\u001b[1;34m(self, method, uri, signed, force_params, **kwargs)\u001b[0m\n\u001b[0;32m    356\u001b[0m kwargs \u001b[39m=\u001b[39m \u001b[39mself\u001b[39m\u001b[39m.\u001b[39m_get_request_kwargs(method, signed, force_params, \u001b[39m*\u001b[39m\u001b[39m*\u001b[39mkwargs)\n\u001b[0;32m    358\u001b[0m \u001b[39mself\u001b[39m\u001b[39m.\u001b[39mresponse \u001b[39m=\u001b[39m \u001b[39mgetattr\u001b[39m(\u001b[39mself\u001b[39m\u001b[39m.\u001b[39msession, method)(uri, \u001b[39m*\u001b[39m\u001b[39m*\u001b[39mkwargs)\n\u001b[1;32m--> 359\u001b[0m \u001b[39mreturn\u001b[39;00m \u001b[39mself\u001b[39;49m\u001b[39m.\u001b[39;49m_handle_response(\u001b[39mself\u001b[39;49m\u001b[39m.\u001b[39;49mresponse)\n",
      "File \u001b[1;32mc:\\Users\\user\\AppData\\Local\\Programs\\Python\\Python311\\Lib\\site-packages\\binance\\client.py:368\u001b[0m, in \u001b[0;36mClient._handle_response\u001b[1;34m(response)\u001b[0m\n\u001b[0;32m    363\u001b[0m \u001b[39m\u001b[39m\u001b[39m\"\"\"Internal helper for handling API responses from the Binance server.\u001b[39;00m\n\u001b[0;32m    364\u001b[0m \u001b[39mRaises the appropriate exceptions when necessary; otherwise, returns the\u001b[39;00m\n\u001b[0;32m    365\u001b[0m \u001b[39mresponse.\u001b[39;00m\n\u001b[0;32m    366\u001b[0m \u001b[39m\"\"\"\u001b[39;00m\n\u001b[0;32m    367\u001b[0m \u001b[39mif\u001b[39;00m \u001b[39mnot\u001b[39;00m (\u001b[39m200\u001b[39m \u001b[39m<\u001b[39m\u001b[39m=\u001b[39m response\u001b[39m.\u001b[39mstatus_code \u001b[39m<\u001b[39m \u001b[39m300\u001b[39m):\n\u001b[1;32m--> 368\u001b[0m     \u001b[39mraise\u001b[39;00m BinanceAPIException(response, response\u001b[39m.\u001b[39mstatus_code, response\u001b[39m.\u001b[39mtext)\n\u001b[0;32m    369\u001b[0m \u001b[39mtry\u001b[39;00m:\n\u001b[0;32m    370\u001b[0m     \u001b[39mreturn\u001b[39;00m response\u001b[39m.\u001b[39mjson()\n",
      "\u001b[1;31mBinanceAPIException\u001b[0m: APIError(code=-2015): Invalid API-key, IP, or permissions for action."
     ]
    }
   ],
   "source": [
    "whitelist = ['AMBUSDT', 'PNTUSDT', 'LSKUSDT', 'OMGUSDT', 'ATAUSDT','OCTUSDT', 'ICXUSDT', 'STMXUSDT', 'ARKUSDT', 'WLDUSDT', 'MBLUSDT', 'ZILUSDT', 'HIGHUSDT', 'ETCUSDT', 'ETHUSDT', 'SOLUSDT', 'DOGEUSDT', 'LTCUSDT', 'SHIBUSDT', 'PLAUSDT', 'ONTUSDT', 'FARMUSDT', 'HARDUSDT', 'CHESSUSDT']\n",
    "balances, tickets, info = [], [], []\n",
    "balance = float(client.get_asset_balance(asset='USDT')['free'])\n",
    "partOfBalance = 11\n",
    "signalCounter = 0\n",
    "info = client.futures_exchange_info()\n",
    "coinInfos = []\n",
    "counterRsi = 0\n"
   ]
  },
  {
   "cell_type": "code",
   "execution_count": null,
   "metadata": {},
   "outputs": [],
   "source": [
    "def checkTrend(coinInfo):\n",
    "    if coinInfo['prices'][-1] > coinInfo['prices'][1]:\n",
    "        coinInfo['trend'] = True\n",
    "    else:\n",
    "        coinInfo['trend'] = False "
   ]
  },
  {
   "cell_type": "code",
   "execution_count": null,
   "metadata": {},
   "outputs": [],
   "source": [
    "def checkVolatility(coinInfo):\n",
    "    deviations = []\n",
    "    EMA = sum(coinInfo['prices'][:-20:-1]) / 20\n",
    "    for i in coinInfo['prices'][:-20:-1]:\n",
    "        deviations.append(abs(EMA - i) ** 2)\n",
    "    standartDeviations = sum(deviations) / len(deviations)\n",
    "    if standartDeviations >= coinInfo['prices'][-1] * 0.03:\n",
    "        coinInfo['volatility'] = True\n",
    "    else:\n",
    "        coinInfo['volatility'] = False"
   ]
  },
  {
   "cell_type": "code",
   "execution_count": null,
   "metadata": {},
   "outputs": [],
   "source": [
    "def get_precision(symbol):\n",
    "   for x in info['symbols']:\n",
    "    if x['symbol'] == symbol:\n",
    "        return x['quantityPrecision']"
   ]
  },
  {
   "cell_type": "code",
   "execution_count": null,
   "metadata": {},
   "outputs": [],
   "source": [
    "def supportAndDefence(coinInfo):\n",
    "    support = coinInfo['mins'][-1]\n",
    "    defence = coinInfo['maxs'][-1]\n",
    "    if coinInfo['prices'][-1] >= support:\n",
    "        coinInfo['buySignal'][5] = True\n",
    "    elif coinInfo['prices'][-1] <= defence:\n",
    "        coinInfo['buySingnal'][5] = False\n",
    "\n",
    "def CCIs(coinInfo):\n",
    "    typicalPrice = coinInfo['prices'][-1]\n",
    "    MA = sum(coinInfo['prices'][:-15:-1]) / len(coinInfo['prices'][:-15:-1])\n",
    "    coinInfo['mas'].append(MA)\n",
    "    if len(coinInfo['mas']) > 15:\n",
    "        meanDeviation = abs(sum(coinInfo['prices'][:-15:-1]) - sum(coinInfo['mas'][:-15:-1])) / 15\n",
    "        if meanDeviation != 0:\n",
    "            CCI = (typicalPrice - MA) / (0.015 * meanDeviation)\n",
    "            coinInfo['ccis'].append(CCI)\n",
    "            if coinInfo['ccis'][-1] < -100:\n",
    "                coinInfo['buySignal'][4] = True\n",
    "            elif coinInfo['ccis'][-1] > 100:\n",
    "                coinInfo['buySignal'][4] = False\n",
    "\n",
    "def Fibo(coinInfo):\n",
    "    maximum = max(coinInfo['prices'][:-30:-1])\n",
    "    fibo = [0.786 * maximum, 0.618 * maximum, 0.382 * maximum, 0.236 * maximum]\n",
    "    percents = 0.02\n",
    "    lastPrice = coinInfo['prices'][-1]\n",
    "    if lastPrice < fibo[0] + fibo[0] * percents and lastPrice > fibo[0] - fibo[0] * percents:\n",
    "        coinInfo['buySignal'][3] = True\n",
    "    if lastPrice < fibo[1] + fibo[1] * percents and lastPrice > fibo[1] - fibo[1] * percents:\n",
    "        coinInfo['buySignal'][3] = True\n",
    "    if lastPrice < fibo[2] + fibo[2] * percents and lastPrice > fibo[2] - fibo[2] * percents:\n",
    "        coinInfo['buySignal'][3] = True\n",
    "    if lastPrice < fibo[3] + fibo[3] * percents and lastPrice > fibo[3] - fibo[3] * percents:\n",
    "        coinInfo['buySignal'][3] = True\n",
    "    \n",
    "\n",
    "def Rsis(coinInfo):\n",
    "    global counterRsi\n",
    "    diff = coinInfo['prices'][-2] - coinInfo['prices'][-1]\n",
    "    counterRsi += 1\n",
    "    print(type(diff))\n",
    "    print(type(len(coinInfo['prices'])))\n",
    "    if (len(coinInfo['prices']) > 2) and (diff > 0):\n",
    "        coinInfo['avg_gain'] += diff\n",
    "    elif (len(coinInfo['prices']) > 2) and (diff < 0):\n",
    "        diff = abs(diff)\n",
    "        coinInfo['avg_loss'] += diff\n",
    "    \n",
    "    if counterRsi > 50:\n",
    "        coinInfo['avg_gain'] = 1\n",
    "        coinInfo['avg_loss'] = 1\n",
    "\n",
    "    if coinInfo['avg_loss'] > 0 and coinInfo['avg_gain'] > 1:\n",
    "        RS = coinInfo['avg_gain'] / coinInfo['avg_loss']\n",
    "        RSI = 100 - (100 / (1 + RS))\n",
    "        coinInfo['rsis'].append(RSI)\n",
    "        if RSI < 30 and RSI > 20:\n",
    "            coinInfo['buySignal'][0] = True\n",
    "        elif RSI > 70 and RSI < 90:\n",
    "            coinInfo['buySignal'][0] = False\n",
    "    \n",
    "    \n",
    "def Mcds(CoinInfo):\n",
    "    long_EMA = sum(CoinInfo['prices'][:-26:-1]) / len(CoinInfo['prices'][:-26:-1])\n",
    "    short_EMA = sum(CoinInfo['prices'][:-12:-1]) / len(CoinInfo['prices'][:-12:-1])\n",
    "    short_diff_EMA = sum(CoinInfo['prices'][:-9:-1]) / len(CoinInfo['prices'][:-9:-1])\n",
    "    CoinInfo['long_EMA'].append(long_EMA)\n",
    "    CoinInfo['short_EMA'].append(short_EMA)\n",
    "    CoinInfo['short_diff_EMA'].append(short_diff_EMA)\n",
    "    MACD = round(CoinInfo['short_EMA'][-1] - CoinInfo['long_EMA'][-1], 3)\n",
    "    signal = short_diff_EMA * (short_EMA - long_EMA)\n",
    "    CoinInfo['macds'].append(MACD)\n",
    "    if len(CoinInfo['macds']) > 10 and MACD - signal > -0.6 and MACD - signal < 0.6:\n",
    "        CoinInfo['buySignal'][1] = True\n",
    "    elif len(CoinInfo['macds']) > 10 and MACD - signal > 0.6 and MACD - signal < -0.6:\n",
    "        CoinInfo['buySignal'][1] = False\n",
    "        \n",
    "    \n",
    "def Stochastic(CoinInfo):\n",
    "    priceLock = CoinInfo['prices'][-1]\n",
    "    minimum = min(CoinInfo['prices'][:15])\n",
    "    maximum = max(CoinInfo['prices'][:15])\n",
    "    if minimum - maximum != 0:\n",
    "        Stoch = (priceLock - minimum) / (maximum - minimum) * 100\n",
    "        CoinInfo['stoch'].append(Stoch)\n",
    "        if len(CoinInfo['stoch']) > 10 and Stoch < 20:\n",
    "            CoinInfo['buySignal'][2] = True\n",
    "        elif Stoch > 70:\n",
    "            CoinInfo['buySignal'][2] = False"
   ]
  },
  {
   "cell_type": "code",
   "execution_count": null,
   "metadata": {},
   "outputs": [],
   "source": [
    "def checkPrecision(coinInfo, precision):\n",
    "    if precision == 0 or precision == None:\n",
    "        precision = 1\n",
    "    else:\n",
    "        precision = int(precision)\n",
    "    x = round(coinInfo['prices'][-1], precision)\n",
    "    return x"
   ]
  },
  {
   "cell_type": "code",
   "execution_count": null,
   "metadata": {},
   "outputs": [],
   "source": [
    "def buy(coinInfo):\n",
    "    try:\n",
    "        balance = float(client.get_asset_balance(asset='USDT')['free'])\n",
    "        if float(balance) > partOfBalance:\n",
    "            now = datetime.now()\n",
    "            precision = get_precision(coinInfo['symbol'])\n",
    "            x = checkPrecision(coinInfo, precision)\n",
    "            if x > 0:\n",
    "                qty = partOfBalance / x\n",
    "                qty = round(qty, precision)\n",
    "                print(qty)\n",
    "                order = client.create_order(\n",
    "                    symbol=coinInfo['symbol'],\n",
    "                    side=Client.SIDE_BUY,\n",
    "                    type=Client.ORDER_TYPE_MARKET,\n",
    "                    quantity=qty\n",
    "                )\n",
    "                print(\"Bouth \", coinInfo['symbol'], ' price ', coinInfo['prices'][-1])\n",
    "                Ticket = {\n",
    "                    'symbol' : coinInfo['symbol'],\n",
    "                    'price' : coinInfo['prices'][-1],\n",
    "                    'takeprofit' : coinInfo['prices'][-1] + coinInfo['prices'][-1] * 0.015,\n",
    "                    'stoploss' : coinInfo['prices'][-1] - coinInfo['prices'][-1]  * 0.02,\n",
    "                    'qty' : qty,\n",
    "                    'time' : now,\n",
    "                    'sold' : False,\n",
    "                    'status' : ''\n",
    "                }\n",
    "                tickets.append(Ticket)\n",
    "    except Exception as E:\n",
    "        print(E)\n",
    "        print(coinInfo['symbol'])\n",
    "\n",
    "\n",
    "def sell(coinInfo, ticket):\n",
    "    try:\n",
    "        order = client.order_market_sell(\n",
    "            symbol=ticket['symbol'],\n",
    "            quantity=ticket['qty']\n",
    "            )\n",
    "        print('Sold ', ticket['symbol'])\n",
    "        ticket['sold'] = True\n",
    "        balance = float(client.get_asset_balance(asset='USDT')['free'])\n",
    "        balances.append(balance)\n",
    "    except Exception as E:\n",
    "        print(E)"
   ]
  },
  {
   "cell_type": "code",
   "execution_count": null,
   "metadata": {},
   "outputs": [],
   "source": [
    "def appendPrices(coinInfo):\n",
    "    if len(coinInfo['prices']) > 11:\n",
    "        coinInfo['mins'].append(min(coinInfo['prices'][:-10:-1]))\n",
    "        coinInfo['maxs'].append(max(coinInfo['prices'][:-10:-1]))\n",
    "    coin = coinInfo['symbol']\n",
    "    price = tickers.loc[tickers['symbol'] == f'{coin}']['price'].astype(float)\n",
    "    coinInfo['prices'].append(price)"
   ]
  },
  {
   "cell_type": "code",
   "execution_count": null,
   "metadata": {},
   "outputs": [],
   "source": [
    "def makeCoinsJson(symbol):\n",
    "    precision = get_precision(symbol)\n",
    "    if precision == 0 or precision == None:\n",
    "        precision = 1\n",
    "    else:\n",
    "        precision = int(precision)\n",
    "\n",
    "    coinInfo = {\n",
    "        'symbol' : symbol,\n",
    "        'prices' : [],\n",
    "        'avg_gain' : 1,\n",
    "        'avg_loss' : 1,\n",
    "        'rsis' : [],\n",
    "        'macds' : [],\n",
    "        'long_EMA' : [],\n",
    "        'short_EMA' : [],\n",
    "        'short_diff_EMA' : [],\n",
    "        'stoch' : [],\n",
    "        'max' : 1,\n",
    "        'mas' : [],\n",
    "        'ccis' : [],\n",
    "        'volatility' : [],\n",
    "        'mins' : [],\n",
    "        'maxs' : [],\n",
    "        'buySignal' : [False, False, False, False, False, False],\n",
    "        'precision' : precision,\n",
    "        'trend' : False\n",
    "    }\n",
    "    coinInfos.append(coinInfo)"
   ]
  },
  {
   "cell_type": "code",
   "execution_count": null,
   "metadata": {},
   "outputs": [],
   "source": [
    "def checkIndicators(coinInfo):\n",
    "    global signalCounter\n",
    "    if len(coinInfo['prices']) > 2:\n",
    "        Rsis(coinInfo)\n",
    "    if len(coinInfo['prices']) > 15:\n",
    "        Mcds(coinInfo)\n",
    "        Fibo(coinInfo)\n",
    "        Stochastic(coinInfo)\n",
    "        CCIs(coinInfo)\n",
    "        supportAndDefence(coinInfo)\n",
    "        checkTrend(coinInfo)\n",
    "        \n",
    "    \n",
    "    for i in coinInfo['buySignal']:\n",
    "        if i == True:\n",
    "            signalCounter += 1\n",
    "        if signalCounter >= 2 and coinInfo['volatility'] == True and coinInfo['trend'] == True:\n",
    "            buy(coinInfo)\n",
    "            signalCounter = 0\n",
    "            coinInfo['buySignal'] = [False, False, False, False, False, False]            "
   ]
  },
  {
   "cell_type": "code",
   "execution_count": null,
   "metadata": {},
   "outputs": [],
   "source": [
    "def makeStatistic(tickets):\n",
    "    counterLoss = 1\n",
    "    counterGain = 1\n",
    "    for i in tickets:\n",
    "        if i['status'] == 'loss':\n",
    "            counterLoss += 1\n",
    "        elif i['status'] == 'gain':\n",
    "            counterGain += 1\n",
    "        statistic = counterGain / counterLoss * 100\n",
    "        print('Statistic - ', statistic)\n",
    "    "
   ]
  },
  {
   "cell_type": "code",
   "execution_count": null,
   "metadata": {},
   "outputs": [],
   "source": [
    "for coin in whitelist:\n",
    "    makeCoinsJson(coin)"
   ]
  },
  {
   "cell_type": "code",
   "execution_count": null,
   "metadata": {},
   "outputs": [],
   "source": [
    "def checkTicketsToSell(tickets, price, symbol):\n",
    "    for ticket in tickets:\n",
    "        if ticket['symbol'] == symbol:\n",
    "            print('We waiting ', ticket['price'] + ticket['price'] * 0.005)\n",
    "            if price > ticket['takeprofit']:\n",
    "                sell(ticket)\n",
    "                ticket['status'] = 'gain'\n",
    "            elif price < ticket['stoploss']:\n",
    "                sell(ticket)\n",
    "                ticket['status'] = 'loss'"
   ]
  },
  {
   "cell_type": "code",
   "execution_count": null,
   "metadata": {},
   "outputs": [
    {
     "name": "stdout",
     "output_type": "stream",
     "text": [
      "cycle  0\n",
      "cycle  1\n"
     ]
    }
   ],
   "source": [
    "\n",
    "for i in range(1440):\n",
    "    print('cycle ', i)\n",
    "    for coinInfo in coinInfos:\n",
    "        appendPrices(coinInfo)\n",
    "        balance = float(client.get_asset_balance(asset='USDT')['free'])\n",
    "        if len(coinInfo['prices']) > 5:\n",
    "            checkIndicators(coinInfo)\n",
    "            checkTicketsToSell(tickets, coinInfo['prices'][-1], coinInfo['symbol'][-1])\n",
    "    time.sleep(10)\n",
    "        \n",
    "for ticket in tickets:\n",
    "    sell(ticket)"
   ]
  },
  {
   "cell_type": "code",
   "execution_count": null,
   "metadata": {},
   "outputs": [],
   "source": [
    "makeStatistic(tickets)"
   ]
  }
 ],
 "metadata": {
  "kernelspec": {
   "display_name": "Python 3",
   "language": "python",
   "name": "python3"
  },
  "language_info": {
   "codemirror_mode": {
    "name": "ipython",
    "version": 3
   },
   "file_extension": ".py",
   "mimetype": "text/x-python",
   "name": "python",
   "nbconvert_exporter": "python",
   "pygments_lexer": "ipython3",
   "version": "3.11.6"
  }
 },
 "nbformat": 4,
 "nbformat_minor": 2
}
